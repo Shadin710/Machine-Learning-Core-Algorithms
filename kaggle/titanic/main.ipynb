{
 "cells": [
  {
   "cell_type": "markdown",
   "source": [
    "## Regression"
   ],
   "metadata": {}
  },
  {
   "cell_type": "code",
   "execution_count": 18,
   "source": [
    "from __future__ import absolute_import,division,print_function,unicode_literals\r\n",
    "import numpy as np\r\n",
    "import pandas as pd\r\n",
    "import matplotlib.pyplot as plt\r\n",
    "from IPython.display import clear_output\r\n",
    "from six.moves import urllib\r\n",
    "\r\n",
    "import tensorflow.compat.v2.feature_column as fc\r\n",
    "import tensorflow as tf"
   ],
   "outputs": [],
   "metadata": {}
  },
  {
   "cell_type": "markdown",
   "source": [
    "## Loading data in dataframe"
   ],
   "metadata": {}
  },
  {
   "cell_type": "code",
   "execution_count": 19,
   "source": [
    "dftrain = pd.read_csv('./data/train.csv')\r\n",
    "dfeval  = pd.read_csv('./data/eval.csv')\r\n",
    "# print(dftrain.head())\r\n",
    "# print(dfeval.head())\r\n",
    "\r\n",
    "# Popped out the survived col from the datasets\r\n",
    "y_train = dftrain.pop('survived')\r\n",
    "y_eval = dfeval.pop('survived') \r\n",
    "\r\n",
    "# print(y_train.head())\r\n"
   ],
   "outputs": [],
   "metadata": {}
  },
  {
   "cell_type": "code",
   "execution_count": 3,
   "source": [
    "dftrain.describe()"
   ],
   "outputs": [
    {
     "output_type": "execute_result",
     "data": {
      "text/plain": [
       "              age  n_siblings_spouses       parch        fare\n",
       "count  627.000000          627.000000  627.000000  627.000000\n",
       "mean    29.631308            0.545455    0.379585   34.385399\n",
       "std     12.511818            1.151090    0.792999   54.597730\n",
       "min      0.750000            0.000000    0.000000    0.000000\n",
       "25%     23.000000            0.000000    0.000000    7.895800\n",
       "50%     28.000000            0.000000    0.000000   15.045800\n",
       "75%     35.000000            1.000000    0.000000   31.387500\n",
       "max     80.000000            8.000000    5.000000  512.329200"
      ],
      "text/html": [
       "<div>\n",
       "<style scoped>\n",
       "    .dataframe tbody tr th:only-of-type {\n",
       "        vertical-align: middle;\n",
       "    }\n",
       "\n",
       "    .dataframe tbody tr th {\n",
       "        vertical-align: top;\n",
       "    }\n",
       "\n",
       "    .dataframe thead th {\n",
       "        text-align: right;\n",
       "    }\n",
       "</style>\n",
       "<table border=\"1\" class=\"dataframe\">\n",
       "  <thead>\n",
       "    <tr style=\"text-align: right;\">\n",
       "      <th></th>\n",
       "      <th>age</th>\n",
       "      <th>n_siblings_spouses</th>\n",
       "      <th>parch</th>\n",
       "      <th>fare</th>\n",
       "    </tr>\n",
       "  </thead>\n",
       "  <tbody>\n",
       "    <tr>\n",
       "      <th>count</th>\n",
       "      <td>627.000000</td>\n",
       "      <td>627.000000</td>\n",
       "      <td>627.000000</td>\n",
       "      <td>627.000000</td>\n",
       "    </tr>\n",
       "    <tr>\n",
       "      <th>mean</th>\n",
       "      <td>29.631308</td>\n",
       "      <td>0.545455</td>\n",
       "      <td>0.379585</td>\n",
       "      <td>34.385399</td>\n",
       "    </tr>\n",
       "    <tr>\n",
       "      <th>std</th>\n",
       "      <td>12.511818</td>\n",
       "      <td>1.151090</td>\n",
       "      <td>0.792999</td>\n",
       "      <td>54.597730</td>\n",
       "    </tr>\n",
       "    <tr>\n",
       "      <th>min</th>\n",
       "      <td>0.750000</td>\n",
       "      <td>0.000000</td>\n",
       "      <td>0.000000</td>\n",
       "      <td>0.000000</td>\n",
       "    </tr>\n",
       "    <tr>\n",
       "      <th>25%</th>\n",
       "      <td>23.000000</td>\n",
       "      <td>0.000000</td>\n",
       "      <td>0.000000</td>\n",
       "      <td>7.895800</td>\n",
       "    </tr>\n",
       "    <tr>\n",
       "      <th>50%</th>\n",
       "      <td>28.000000</td>\n",
       "      <td>0.000000</td>\n",
       "      <td>0.000000</td>\n",
       "      <td>15.045800</td>\n",
       "    </tr>\n",
       "    <tr>\n",
       "      <th>75%</th>\n",
       "      <td>35.000000</td>\n",
       "      <td>1.000000</td>\n",
       "      <td>0.000000</td>\n",
       "      <td>31.387500</td>\n",
       "    </tr>\n",
       "    <tr>\n",
       "      <th>max</th>\n",
       "      <td>80.000000</td>\n",
       "      <td>8.000000</td>\n",
       "      <td>5.000000</td>\n",
       "      <td>512.329200</td>\n",
       "    </tr>\n",
       "  </tbody>\n",
       "</table>\n",
       "</div>"
      ]
     },
     "metadata": {},
     "execution_count": 3
    }
   ],
   "metadata": {}
  },
  {
   "cell_type": "code",
   "execution_count": null,
   "source": [
    "numeric_col = ['age','fare']\r\n",
    "cat_col = ['sex', 'n_siblings_spouses', 'parch', 'class', 'deck','embark_town', 'alone']\r\n",
    "feature_col = []\r\n",
    "\r\n",
    "for feature in cat_col:\r\n",
    "    voc = dftrain[feature].unique()\r\n",
    "    feature_col.append(tf.feature_column.categorical_column_with_vocabulary_list(feature,voc))\r\n",
    "for feature in numeric_col:\r\n",
    "    feature_col.append(tf.feature_column.numeric_column(feature, dtype=tf.float32))\r\n",
    "\r\n",
    "print(feature_col)"
   ],
   "outputs": [],
   "metadata": {}
  },
  {
   "cell_type": "markdown",
   "source": [
    "## Input function\r\n",
    "The TensorFlow model we are going to use requires that the data we pass it comes in as a ```tf.data.Dataset``` object. This means we must create a *input function* that can convert our current pandas dataframe into that object"
   ],
   "metadata": {}
  },
  {
   "cell_type": "code",
   "execution_count": 21,
   "source": [
    "def make_input_fun(data_f,label_f,nepo=10,batch_size=32,shuffle=True):\r\n",
    "    def input_fun():\r\n",
    "        ds = tf.data.Dataset.from_tensor_slices((dict(data_f),label_f))\r\n",
    "        if shuffle:\r\n",
    "            ds = ds.shuffle(1000)\r\n",
    "        ds = ds.batch(batch_size).repeat(nepo)\r\n",
    "        return ds\r\n",
    "    return input_fun\r\n",
    "\r\n",
    "train_input = make_input_fun(dftrain,y_train)\r\n",
    "eval_data = make_input_fun(dfeval,y_eval,nepo=1,shuffle=False)"
   ],
   "outputs": [],
   "metadata": {}
  },
  {
   "cell_type": "markdown",
   "source": [
    "## Now we need to create a model "
   ],
   "metadata": {}
  },
  {
   "cell_type": "code",
   "execution_count": 26,
   "source": [
    "esti = tf.estimator.LinearClassifier(feature_columns=feature_col)\r\n",
    "clear_output()"
   ],
   "outputs": [],
   "metadata": {}
  },
  {
   "cell_type": "code",
   "execution_count": 31,
   "source": [
    "esti.train(train_input)\r\n",
    "result = esti.evaluate(eval_data)\r\n",
    "clear_output()\r\n",
    "print(result['accuracy'])"
   ],
   "outputs": [
    {
     "output_type": "stream",
     "name": "stdout",
     "text": [
      "0.7462121\n"
     ]
    }
   ],
   "metadata": {}
  },
  {
   "cell_type": "code",
   "execution_count": 32,
   "source": [
    "pred_dicts = list(esti.predict(eval_data))\r\n",
    "clear_output()\r\n",
    "print(dfeval.loc[3])\r\n",
    "print(y_eval.loc[3])\r\n",
    "print(pred_dicts[3]['probabilities'][1])"
   ],
   "outputs": [
    {
     "output_type": "stream",
     "name": "stdout",
     "text": [
      "sex                        female\n",
      "age                          55.0\n",
      "n_siblings_spouses              0\n",
      "parch                           0\n",
      "fare                         16.0\n",
      "class                      Second\n",
      "deck                      unknown\n",
      "embark_town           Southampton\n",
      "alone                           y\n",
      "Name: 3, dtype: object\n",
      "1\n",
      "0.8116084\n"
     ]
    }
   ],
   "metadata": {}
  },
  {
   "cell_type": "code",
   "execution_count": null,
   "source": [],
   "outputs": [],
   "metadata": {}
  }
 ],
 "metadata": {
  "orig_nbformat": 4,
  "language_info": {
   "name": "python",
   "version": "3.9.1",
   "mimetype": "text/x-python",
   "codemirror_mode": {
    "name": "ipython",
    "version": 3
   },
   "pygments_lexer": "ipython3",
   "nbconvert_exporter": "python",
   "file_extension": ".py"
  },
  "kernelspec": {
   "name": "python3",
   "display_name": "Python 3.9.1 64-bit"
  },
  "interpreter": {
   "hash": "1381cda20fd746df8c8c339c38269f44ce61a2aefc77fc71f6092a3359510ca9"
  }
 },
 "nbformat": 4,
 "nbformat_minor": 2
}